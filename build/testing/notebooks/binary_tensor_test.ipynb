{
 "cells": [
  {
   "cell_type": "code",
   "execution_count": 1,
   "metadata": {
    "collapsed": true,
    "pycharm": {
     "name": "#%%\n"
    }
   },
   "outputs": [],
   "source": [
    "from torch import Tensor\n",
    "\n",
    "import torch\n",
    "import numpy as np"
   ]
  },
  {
   "cell_type": "code",
   "execution_count": 2,
   "outputs": [
    {
     "data": {
      "text/plain": "(tensor([-0.5682,  1.4677, -0.3205,  0.2717,  0.4254]),\n tensor([-2.6464, -0.7340, -2.1760, -1.7312, -0.9295]))"
     },
     "execution_count": 2,
     "metadata": {},
     "output_type": "execute_result"
    }
   ],
   "source": [
    "test_x = torch.randn(5)\n",
    "test_y = torch.randn(5)\n",
    "test_x, test_y"
   ],
   "metadata": {
    "collapsed": false,
    "pycharm": {
     "name": "#%%\n"
    }
   }
  },
  {
   "cell_type": "code",
   "execution_count": 3,
   "outputs": [],
   "source": [
    "def get_tensor_size(tensor: Tensor, debug=False):\n",
    "    total_params = tensor.numel()\n",
    "    total_size = total_params * tensor.element_size()\n",
    "    if debug:\n",
    "        print(f\"tensor has {round(total_params)} elements\")\n",
    "        print(f\"tensor is {round(total_size)} bytes\")\n",
    "    return total_params, total_size"
   ],
   "metadata": {
    "collapsed": false,
    "pycharm": {
     "name": "#%%\n"
    }
   }
  },
  {
   "cell_type": "code",
   "execution_count": 4,
   "outputs": [
    {
     "name": "stdout",
     "output_type": "stream",
     "text": [
      "tensor has 5 elements\n",
      "tensor is 5 bytes\n"
     ]
    },
    {
     "data": {
      "text/plain": "((5, 5), dtype('bool'))"
     },
     "execution_count": 4,
     "metadata": {},
     "output_type": "execute_result"
    }
   ],
   "source": [
    "test_c = torch.randint(0, 2, (5,)).to(dtype=torch.bool)\n",
    "get_tensor_size(test_c, True), test_c.numpy().dtype"
   ],
   "metadata": {
    "collapsed": false,
    "pycharm": {
     "name": "#%%\n"
    }
   }
  },
  {
   "cell_type": "code",
   "execution_count": 5,
   "outputs": [
    {
     "data": {
      "text/plain": "(tensor([[ 0,  1,  2,  3,  4],\n         [ 5,  6,  7,  8,  9],\n         [10, 11, 12, 13, 14],\n         [15, 16, 17, 18, 19],\n         [20, 21, 22, 23, 24]]),\n tensor([[ 0,  1],\n         [ 5,  6],\n         [10, 11],\n         [15, 16],\n         [20, 21]]))"
     },
     "execution_count": 5,
     "metadata": {},
     "output_type": "execute_result"
    }
   ],
   "source": [
    "test_tensor = torch.arange(5 * 5).view(5, 5)\n",
    "test_index = torch.arange(2)\n",
    "test_tensor, torch.index_select(test_tensor, -1, test_index)"
   ],
   "metadata": {
    "collapsed": false,
    "pycharm": {
     "name": "#%%\n"
    }
   }
  },
  {
   "cell_type": "code",
   "execution_count": 6,
   "outputs": [],
   "source": [
    "DEVICE = 'cpu'"
   ],
   "metadata": {
    "collapsed": false,
    "pycharm": {
     "name": "#%%\n"
    }
   }
  },
  {
   "cell_type": "code",
   "execution_count": 50,
   "outputs": [
    {
     "name": "stdout",
     "output_type": "stream",
     "text": [
      "tensor([ -1.,  -2.,  -3.,  -4.,  -5.,  -6.,  -7.,  -8.,  -9., -10., -11., -12.,\n",
      "        -13., -14., -15., -16., -17., -18., -19., -20., -21., -22., -23., -24.,\n",
      "        -25., -26., -27., -28., -29., -30., -31., -32., -33., -34., -35., -36.,\n",
      "        -37., -38., -39., -40., -41., -42., -43., -44., -45., -46., -47., -48.,\n",
      "        -49., -50., -51., -52.], dtype=torch.float64)\n",
      "tensor([10.,  9.,  8.,  7.,  6.,  5.,  4.,  3.,  2.,  1.,  0.],\n",
      "       dtype=torch.float64)\n",
      "tensor([12, 13, 14, 15, 16, 17, 18, 19, 20, 21, 22, 23, 24, 25, 26, 27, 28, 29,\n",
      "        30, 31, 32, 33, 34, 35, 36, 37, 38, 39, 40, 41, 42, 43, 44, 45, 46, 47,\n",
      "        48, 49, 50, 51, 52, 53, 54, 55, 56, 57, 58, 59, 60, 61, 62, 63],\n",
      "       dtype=torch.int32)\n",
      "tensor([ 1,  2,  3,  4,  5,  6,  7,  8,  9, 10, 11], dtype=torch.int32)\n"
     ]
    }
   ],
   "source": [
    "FRACT_PV = torch.arange(-1, -52-1, -1, device=DEVICE, dtype=torch.float64)\n",
    "EXP_PV   = torch.arange(10, 0-1, -1, device=DEVICE, dtype=torch.float64)\n",
    "print(FRACT_PV)\n",
    "print(EXP_PV)\n",
    "FRACT_SEL = (64 - 52) + torch.arange(52, device=DEVICE, dtype=torch.int)\n",
    "EXP_SEL   = torch.arange(1, 12, device=DEVICE, dtype=torch.int)\n",
    "print(FRACT_SEL)\n",
    "print(EXP_SEL)\n",
    "\n",
    "def float64_frac(binary_tensor: Tensor):\n",
    "    print(torch.sum(torch.index_select(binary_tensor, -1, FRACT_SEL) * (2 ** FRACT_PV), -1))\n",
    "    return 1 + torch.sum(torch.index_select(binary_tensor, -1, FRACT_SEL) * (2 ** FRACT_PV), -1)\n",
    "\n",
    "def float64_exp(binary_tensor: Tensor):\n",
    "    return 2 ** (torch.sum(torch.index_select(binary_tensor, -1, EXP_SEL) * (2 ** EXP_PV), -1) - 1023)\n",
    "\n",
    "def to_float64(binary_tensor: Tensor):\n",
    "    torch.cuda.empty_cache()\n",
    "    with torch.no_grad():\n",
    "        return ((-1.0) ** torch.select(binary_tensor, dim=-1, index=0)) * float64_exp(binary_tensor) * float64_frac(binary_tensor)"
   ],
   "metadata": {
    "collapsed": false,
    "pycharm": {
     "name": "#%%\n"
    }
   }
  },
  {
   "cell_type": "code",
   "execution_count": 51,
   "outputs": [
    {
     "name": "stdout",
     "output_type": "stream",
     "text": [
      "tensor([[[ True],\n",
      "         [ True],\n",
      "         [False],\n",
      "         ...,\n",
      "         [ True],\n",
      "         [ True],\n",
      "         [False]],\n",
      "\n",
      "        [[False],\n",
      "         [False],\n",
      "         [False],\n",
      "         ...,\n",
      "         [ True],\n",
      "         [False],\n",
      "         [False]],\n",
      "\n",
      "        [[ True],\n",
      "         [ True],\n",
      "         [ True],\n",
      "         ...,\n",
      "         [False],\n",
      "         [ True],\n",
      "         [False]],\n",
      "\n",
      "        ...,\n",
      "\n",
      "        [[ True],\n",
      "         [False],\n",
      "         [False],\n",
      "         ...,\n",
      "         [False],\n",
      "         [ True],\n",
      "         [False]],\n",
      "\n",
      "        [[ True],\n",
      "         [ True],\n",
      "         [ True],\n",
      "         ...,\n",
      "         [False],\n",
      "         [False],\n",
      "         [False]],\n",
      "\n",
      "        [[ True],\n",
      "         [ True],\n",
      "         [False],\n",
      "         ...,\n",
      "         [False],\n",
      "         [False],\n",
      "         [ True]]])\n",
      "tensor([[[ True, False, False,  ...,  True, False, False],\n",
      "         [False,  True, False,  ..., False, False,  True],\n",
      "         [False,  True, False,  ...,  True, False, False],\n",
      "         ...,\n",
      "         [ True,  True,  True,  ...,  True,  True,  True],\n",
      "         [ True, False, False,  ...,  True,  True,  True],\n",
      "         [ True, False, False,  ..., False,  True,  True]],\n",
      "\n",
      "        [[False,  True, False,  ...,  True,  True, False],\n",
      "         [False, False, False,  ..., False,  True,  True],\n",
      "         [ True,  True,  True,  ..., False,  True,  True],\n",
      "         ...,\n",
      "         [ True, False, False,  ..., False, False,  True],\n",
      "         [ True, False,  True,  ...,  True,  True,  True],\n",
      "         [False,  True,  True,  ..., False, False,  True]],\n",
      "\n",
      "        [[False,  True,  True,  ...,  True,  True, False],\n",
      "         [ True,  True,  True,  ...,  True, False,  True],\n",
      "         [False, False,  True,  ..., False, False, False],\n",
      "         ...,\n",
      "         [False,  True, False,  ..., False, False, False],\n",
      "         [False, False, False,  ..., False, False, False],\n",
      "         [False, False, False,  ...,  True,  True,  True]],\n",
      "\n",
      "        ...,\n",
      "\n",
      "        [[False,  True, False,  ..., False, False, False],\n",
      "         [ True,  True, False,  ...,  True, False,  True],\n",
      "         [ True,  True, False,  ...,  True,  True, False],\n",
      "         ...,\n",
      "         [ True,  True,  True,  ...,  True,  True,  True],\n",
      "         [ True,  True, False,  ...,  True, False,  True],\n",
      "         [ True,  True, False,  ...,  True,  True,  True]],\n",
      "\n",
      "        [[ True,  True,  True,  ..., False, False,  True],\n",
      "         [ True,  True, False,  ...,  True, False, False],\n",
      "         [ True, False,  True,  ..., False,  True, False],\n",
      "         ...,\n",
      "         [ True, False, False,  ..., False,  True, False],\n",
      "         [False, False,  True,  ...,  True, False, False],\n",
      "         [ True, False,  True,  ..., False,  True, False]],\n",
      "\n",
      "        [[ True,  True,  True,  ..., False, False, False],\n",
      "         [ True, False, False,  ...,  True, False,  True],\n",
      "         [False, False,  True,  ...,  True,  True,  True],\n",
      "         ...,\n",
      "         [False,  True, False,  ...,  True, False, False],\n",
      "         [False, False, False,  ...,  True, False,  True],\n",
      "         [False, False,  True,  ..., False,  True,  True]]])\n",
      "tensor([[[False,  True, False,  ..., False,  True, False],\n",
      "         [False, False,  True,  ...,  True, False,  True],\n",
      "         [False, False,  True,  ...,  True, False,  True],\n",
      "         ...,\n",
      "         [False,  True,  True,  ..., False, False, False],\n",
      "         [False, False, False,  ...,  True, False,  True],\n",
      "         [ True, False, False,  ...,  True,  True, False]],\n",
      "\n",
      "        [[False, False,  True,  ...,  True,  True,  True],\n",
      "         [False, False,  True,  ...,  True, False, False],\n",
      "         [ True,  True,  True,  ..., False, False,  True],\n",
      "         ...,\n",
      "         [ True, False,  True,  ...,  True, False, False],\n",
      "         [ True,  True, False,  ...,  True,  True,  True],\n",
      "         [ True, False, False,  ..., False,  True,  True]],\n",
      "\n",
      "        [[False, False,  True,  ..., False,  True, False],\n",
      "         [False,  True, False,  ...,  True,  True, False],\n",
      "         [False,  True, False,  ..., False, False, False],\n",
      "         ...,\n",
      "         [ True, False,  True,  ...,  True,  True, False],\n",
      "         [False,  True, False,  ..., False,  True, False],\n",
      "         [False,  True, False,  ..., False, False,  True]],\n",
      "\n",
      "        ...,\n",
      "\n",
      "        [[ True, False,  True,  ..., False,  True, False],\n",
      "         [ True,  True,  True,  ..., False, False, False],\n",
      "         [False, False, False,  ...,  True, False, False],\n",
      "         ...,\n",
      "         [ True,  True,  True,  ...,  True, False, False],\n",
      "         [False,  True,  True,  ..., False, False,  True],\n",
      "         [ True, False, False,  ..., False,  True, False]],\n",
      "\n",
      "        [[False, False, False,  ..., False, False,  True],\n",
      "         [False,  True, False,  ...,  True, False,  True],\n",
      "         [False,  True, False,  ..., False,  True, False],\n",
      "         ...,\n",
      "         [ True, False,  True,  ..., False,  True,  True],\n",
      "         [False,  True, False,  ..., False, False,  True],\n",
      "         [False, False,  True,  ..., False,  True, False]],\n",
      "\n",
      "        [[False, False,  True,  ...,  True,  True, False],\n",
      "         [False, False,  True,  ...,  True,  True,  True],\n",
      "         [False, False, False,  ...,  True, False, False],\n",
      "         ...,\n",
      "         [ True,  True, False,  ...,  True, False, False],\n",
      "         [False,  True,  True,  ...,  True,  True, False],\n",
      "         [ True, False, False,  ..., False, False, False]]])\n",
      "tensor([[0.3267, 0.1376, 0.1734,  ..., 0.4573, 0.0125, 0.6060],\n",
      "        [0.2028, 0.2446, 0.9373,  ..., 0.6800, 0.7533, 0.5854],\n",
      "        [0.1531, 0.2806, 0.2760,  ..., 0.7213, 0.3730, 0.3127],\n",
      "        ...,\n",
      "        [0.6656, 0.9748, 0.0721,  ..., 0.9420, 0.4660, 0.5710],\n",
      "        [0.1014, 0.2717, 0.2805,  ..., 0.6473, 0.3313, 0.2003],\n",
      "        [0.2242, 0.1346, 0.0548,  ..., 0.8735, 0.4238, 0.6130]],\n",
      "       dtype=torch.float64)\n",
      "tensor([[0.3267, 0.1376, 0.1734,  ..., 0.4573, 0.0125, 0.6060],\n",
      "        [0.2028, 0.2446, 0.9373,  ..., 0.6800, 0.7533, 0.5854],\n",
      "        [0.1531, 0.2806, 0.2760,  ..., 0.7213, 0.3730, 0.3127],\n",
      "        ...,\n",
      "        [0.6656, 0.9748, 0.0721,  ..., 0.9420, 0.4660, 0.5710],\n",
      "        [0.1014, 0.2717, 0.2805,  ..., 0.6473, 0.3313, 0.2003],\n",
      "        [0.2242, 0.1346, 0.0548,  ..., 0.8735, 0.4238, 0.6130]],\n",
      "       dtype=torch.float64)\n"
     ]
    },
    {
     "data": {
      "text/plain": "(tensor([[1.3267, 1.1376, 1.1734,  ..., 1.4573, 1.0125, 1.6060],\n         [1.2028, 1.2446, 1.9373,  ..., 1.6800, 1.7533, 1.5854],\n         [1.1531, 1.2806, 1.2760,  ..., 1.7213, 1.3730, 1.3127],\n         ...,\n         [1.6656, 1.9748, 1.0721,  ..., 1.9420, 1.4660, 1.5710],\n         [1.1014, 1.2717, 1.2805,  ..., 1.6473, 1.3313, 1.2003],\n         [1.2242, 1.1346, 1.0548,  ..., 1.8735, 1.4238, 1.6130]],\n        dtype=torch.float64),\n tensor([[ 2.3058e+18, 1.2813e-144, 1.7198e-136,  ..., 1.0175e+236,\n           3.4028e+38,  5.9863e+51],\n         [ 2.3408e-97, 1.6418e-288, 4.1675e+239,  ...,  1.1259e+15,\n          1.5391e+113,  1.5625e-02],\n         [ 5.0000e-01, 2.5436e+235, 3.9869e-205,  ...,  2.3970e-94,\n          7.2911e-304, 5.8582e-244],\n         ...,\n         [1.2994e-113, 2.3134e+223, 1.1845e+226,  ..., 2.8639e+250,\n          4.4555e+189, 1.4742e+166],\n         [6.2101e+231, 4.1095e+208, 5.8147e+135,  ...,  5.7646e+17,\n          5.2766e-228, 2.0658e+121],\n         [6.2978e+262,  2.3945e+52, 6.1694e-179,  ..., 1.8909e-124,\n          7.9393e-264, 1.6561e-170]], dtype=torch.float64),\n tensor([[ -3.0592e+18, -1.4576e-144,  2.0181e-136,  ..., -1.4828e+236,\n           -3.4454e+38,   9.6140e+51],\n         [  2.8156e-97,  2.0434e-288,  8.0738e+239,  ...,  -1.8915e+15,\n           2.6986e+113,   2.4772e-02],\n         [ -5.7656e-01, -3.2573e+235, -5.0874e-205,  ...,   4.1260e-94,\n          -1.0011e-303,  7.6902e-244],\n         ...,\n         [-2.1643e-113,  4.5686e+223,  1.2699e+226,  ...,  5.5617e+250,\n          -6.5320e+189,  2.3160e+166],\n         [-6.8398e+231, -5.2262e+208, -7.4459e+135,  ...,   9.4959e+17,\n           7.0248e-228,  2.4795e+121],\n         [-7.7096e+262,  -2.7169e+52,  6.5073e-179,  ...,  3.5427e-124,\n           1.1304e-263, -2.6713e-170]], dtype=torch.float64),\n (262144, 262144),\n (4096, 32768))"
     },
     "execution_count": 51,
     "metadata": {},
     "output_type": "execute_result"
    }
   ],
   "source": [
    "test_sign = torch.randint(0, 2, (64, 64, 1), device=DEVICE, dtype=torch.bool)\n",
    "test_exp  = torch.randint(0, 2, (64, 64, 11), device=DEVICE, dtype=torch.bool)\n",
    "test_frac = torch.randint(0, 2, (64, 64, 52), device=DEVICE, dtype=torch.bool)\n",
    "test_num  = torch.cat([test_sign, test_exp, test_frac], -1)\n",
    "print(test_sign)\n",
    "print(test_exp)\n",
    "print(test_frac)\n",
    "test_f = float64_frac(test_num).cpu()\n",
    "test_e = float64_exp(test_num).cpu()\n",
    "test_n = to_float64(test_num).cpu()\n",
    "torch.cuda.empty_cache()\n",
    "test_f, test_e, test_n, get_tensor_size(test_num), get_tensor_size(test_n)"
   ],
   "metadata": {
    "collapsed": false,
    "pycharm": {
     "name": "#%%\n"
    }
   }
  },
  {
   "cell_type": "code",
   "execution_count": 52,
   "outputs": [
    {
     "data": {
      "text/plain": "(tensor([1013., 1014., 1015., 1016., 1017., 1018., 1019., 1020., 1021., 1022.],\n        dtype=torch.float64),\n tensor([8.7778e+304, 1.7556e+305, 3.5111e+305, 7.0222e+305, 1.4044e+306,\n         2.8089e+306, 5.6178e+306, 1.1236e+307, 2.2471e+307, 4.4942e+307],\n        dtype=torch.float64),\n tensor([2036., 2037., 2038., 2039., 2040., 2041., 2042., 2043., 2044., 2045.],\n        dtype=torch.float64),\n tensor([1013.7807, 1014.2719, 1015.3618, 1016.1188, 1017.8038, 1018.6142,\n         1019.3919, 1020.7339, 1021.9458, 1022.7578], dtype=torch.float64),\n tensor([0.7180, 0.2074, 0.2850, 0.0859, 0.7456, 0.5307, 0.3122, 0.6631, 0.9263,\n         0.6909], dtype=torch.float64),\n tensor([1., 1., 1., 1., 1., 1., 1., 1., 1., 1.], dtype=torch.float64))"
     },
     "execution_count": 52,
     "metadata": {},
     "output_type": "execute_result"
    }
   ],
   "source": [
    "x = torch.arange(2036, 2046, dtype=torch.float64) - 1023\n",
    "a = 2 ** x\n",
    "y = torch.log2(a)\n",
    "y_ = torch.log2(a * (1 + torch.abs(torch.rand_like(a))))\n",
    "z = (2 ** (y_ - y) - 1)\n",
    "x, a, y + 1023, y_, z, y / x"
   ],
   "metadata": {
    "collapsed": false,
    "pycharm": {
     "name": "#%%\n"
    }
   }
  },
  {
   "cell_type": "code",
   "execution_count": 64,
   "outputs": [
    {
     "name": "stdout",
     "output_type": "stream",
     "text": [
      "tensor([1034.8939]) tensor([1034.]) tensor([0.8582])\n",
      "torch.Size([1, 1]) torch.Size([1, 11]) torch.Size([1, 52])\n",
      "tensor([[0., 1., 0., 0., 0., 0., 0., 0., 1., 0., 1., 0., 1., 1., 0., 1., 1., 0.,\n",
      "         1., 1., 1., 0., 1., 1., 0., 1., 0., 0., 0., 1., 0., 0., 0., 1., 1., 0.,\n",
      "         0., 0., 0., 0., 0., 0., 0., 0., 0., 0., 0., 0., 0., 0., 0., 0., 0., 0.,\n",
      "         0., 0., 0., 0., 0., 0., 0., 0., 0., 0.]])\n",
      "tensor([0.8582], dtype=torch.float64)\n"
     ]
    },
    {
     "data": {
      "text/plain": "(tensor([3805.7893]),\n tensor([0.]),\n tensor([[0., 1., 0., 0., 0., 0., 0., 0., 1., 0., 1., 0., 1., 1., 0., 1., 1., 0.,\n          1., 1., 1., 0., 1., 1., 0., 1., 0., 0., 0., 1., 0., 0., 0., 1., 1., 0.,\n          0., 0., 0., 0., 0., 0., 0., 0., 0., 0., 0., 0., 0., 0., 0., 0., 0., 0.,\n          0., 0., 0., 0., 0., 0., 0., 0., 0., 0.]]),\n tensor([3805.6335], dtype=torch.float64))"
     },
     "execution_count": 64,
     "metadata": {},
     "output_type": "execute_result"
    }
   ],
   "source": [
    "def to_binary(tensor: Tensor):\n",
    "    sign = (tensor < 0.0).unsqueeze(-1)\n",
    "    log = torch.log2(torch.abs(tensor)) + 1023\n",
    "    exponent = torch.floor(log)\n",
    "    fraction = (2 ** (log - exponent)) - 1\n",
    "    print(log, exponent, fraction)\n",
    "\n",
    "    # Get exponent in binary\n",
    "    exponent_bin = []\n",
    "    for _ in range(11):\n",
    "        exponent_bin.append((exponent % 2 != 0).unsqueeze(-1))\n",
    "        exponent = torch.floor(exponent / 2)\n",
    "    exponent_bin = torch.cat(list(reversed(exponent_bin)), -1)\n",
    "\n",
    "    # Get fraction in binary\n",
    "    fraction_bin = []\n",
    "    for _ in range(52):\n",
    "        value = fraction * 2\n",
    "        integer = np.floor(value)\n",
    "        fraction_bin.append(integer.unsqueeze(-1))\n",
    "        fraction = value - integer\n",
    "    fraction_bin = torch.cat(fraction_bin, -1)\n",
    "\n",
    "    print(sign.shape, exponent_bin.shape, fraction_bin.shape)\n",
    "    return torch.cat([sign, exponent_bin, fraction_bin], -1)\n",
    "\n",
    "test_x = torch.randn(1) * 10000\n",
    "test_x_bin = to_binary(test_x)\n",
    "print(test_x_bin)\n",
    "test_x_rev = to_float64(test_x_bin).clone()\n",
    "\n",
    "test_x, torch.select(test_x_bin, -1, 0), test_x_bin, test_x_rev"
   ],
   "metadata": {
    "collapsed": false,
    "pycharm": {
     "name": "#%%\n"
    }
   }
  },
  {
   "cell_type": "code",
   "execution_count": 53,
   "outputs": [],
   "source": [],
   "metadata": {
    "collapsed": false,
    "pycharm": {
     "name": "#%%\n"
    }
   }
  }
 ],
 "metadata": {
  "kernelspec": {
   "display_name": "Python 3",
   "language": "python",
   "name": "python3"
  },
  "language_info": {
   "codemirror_mode": {
    "name": "ipython",
    "version": 2
   },
   "file_extension": ".py",
   "mimetype": "text/x-python",
   "name": "python",
   "nbconvert_exporter": "python",
   "pygments_lexer": "ipython2",
   "version": "2.7.6"
  }
 },
 "nbformat": 4,
 "nbformat_minor": 0
}