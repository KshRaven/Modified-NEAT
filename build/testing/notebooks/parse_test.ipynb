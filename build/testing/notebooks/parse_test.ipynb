{
 "cells": [
  {
   "cell_type": "code",
   "execution_count": 1,
   "metadata": {
    "collapsed": true,
    "pycharm": {
     "name": "#%%\n"
    }
   },
   "outputs": [],
   "source": [
    "from build.config import Config"
   ]
  },
  {
   "cell_type": "code",
   "execution_count": 2,
   "outputs": [],
   "source": [
    "test_config = Config('test')"
   ],
   "metadata": {
    "collapsed": false,
    "pycharm": {
     "name": "#%%\n"
    }
   }
  },
  {
   "cell_type": "code",
   "execution_count": 3,
   "outputs": [
    {
     "data": {
      "text/plain": "'D:\\\\PycharmProjects\\\\Modified-NEAT\\\\storage\\\\configs\\\\test-neat_config.txt'"
     },
     "execution_count": 3,
     "metadata": {},
     "output_type": "execute_result"
    }
   ],
   "source": [
    "test_config.path"
   ],
   "metadata": {
    "collapsed": false,
    "pycharm": {
     "name": "#%%\n"
    }
   }
  },
  {
   "cell_type": "code",
   "execution_count": 4,
   "outputs": [
    {
     "name": "stdout",
     "output_type": "stream",
     "text": [
      "Created configuration '\u001B[96m\u001B[1mGENERAL CONFIG\u001B[0m' in NEAT Configuration \u001B[95m\u001B[1mtest-neat_config.txt\u001B[0m\n",
      "Created configuration '\u001B[96m\u001B[1mGENOME CONFIG\u001B[0m' in NEAT Configuration \u001B[95m\u001B[1mtest-neat_config.txt\u001B[0m\n",
      "Created configuration '\u001B[96m\u001B[1mSPECIES CONFIG\u001B[0m' in NEAT Configuration \u001B[95m\u001B[1mtest-neat_config.txt\u001B[0m\n",
      "Created configuration '\u001B[96m\u001B[1mSTAGNATION CONFIG\u001B[0m' in NEAT Configuration \u001B[95m\u001B[1mtest-neat_config.txt\u001B[0m\n",
      "Created configuration '\u001B[96m\u001B[1mREPRODUCTION CONFIG\u001B[0m' in NEAT Configuration \u001B[95m\u001B[1mtest-neat_config.txt\u001B[0m\n"
     ]
    }
   ],
   "source": [
    "test_config.save()"
   ],
   "metadata": {
    "collapsed": false,
    "pycharm": {
     "name": "#%%\n"
    }
   }
  },
  {
   "cell_type": "code",
   "execution_count": 5,
   "outputs": [
    {
     "name": "stdout",
     "output_type": "stream",
     "text": [
      "Updated configuration '\u001B[96m\u001B[1mGENERAL CONFIG\u001B[0m' in NEAT Configuration \u001B[95m\u001B[1mtest-neat_config.txt\u001B[0m\n",
      "Updated configuration '\u001B[96m\u001B[1mGENOME CONFIG\u001B[0m' in NEAT Configuration \u001B[95m\u001B[1mtest-neat_config.txt\u001B[0m\n",
      "Updated configuration '\u001B[96m\u001B[1mSPECIES CONFIG\u001B[0m' in NEAT Configuration \u001B[95m\u001B[1mtest-neat_config.txt\u001B[0m\n",
      "Updated configuration '\u001B[96m\u001B[1mSTAGNATION CONFIG\u001B[0m' in NEAT Configuration \u001B[95m\u001B[1mtest-neat_config.txt\u001B[0m\n",
      "Updated configuration '\u001B[96m\u001B[1mREPRODUCTION CONFIG\u001B[0m' in NEAT Configuration \u001B[95m\u001B[1mtest-neat_config.txt\u001B[0m\n"
     ]
    }
   ],
   "source": [
    "test_config.update()"
   ],
   "metadata": {
    "collapsed": false,
    "pycharm": {
     "name": "#%%\n"
    }
   }
  },
  {
   "cell_type": "code",
   "execution_count": 6,
   "outputs": [
    {
     "name": "stdout",
     "output_type": "stream",
     "text": [
      "fitness_criterion = max\n",
      "fitness_threshold = 100\n",
      "pop_size = 10000\n",
      "reset_on_extinction = True\n",
      "Loaded configuration '\u001B[96m\u001B[1mGENERAL CONFIG\u001B[0m' in NEAT Configuration \u001B[95m\u001B[1mtest-neat_config.txt\u001B[0m\n",
      "weight_init_mean = 0.0\n",
      "weight_init_std = 1.0\n",
      "weight_max_value = 30\n",
      "weight_min_value = -30\n",
      "weight_mutate_power = 0.5\n",
      "weight_mutate_rate = 0.8\n",
      "weight_replace_rate = 0.1\n",
      "bias_init_mean = 0.0\n",
      "bias_init_std = 1.0\n",
      "bias_max_value = 30.0\n",
      "bias_min_value = -30.0\n",
      "bias_mutate_power = 0.5\n",
      "bias_mutate_rate = 0.7\n",
      "bias_replace_rate = 0.1\n",
      "compatibility_disjoint_coefficient = 1.0\n",
      "compatibility_weight_coefficient = 0.5\n",
      "conn_add_prob = 0.65\n",
      "conn_delete_prob = 0.0\n",
      "initial_connection = full\n",
      "num_inputs = 14\n",
      "num_outputs = 2\n",
      "Loaded configuration '\u001B[96m\u001B[1mGENOME CONFIG\u001B[0m' in NEAT Configuration \u001B[95m\u001B[1mtest-neat_config.txt\u001B[0m\n",
      "compatibility_threshold = 2.0\n",
      "Loaded configuration '\u001B[96m\u001B[1mSPECIES CONFIG\u001B[0m' in NEAT Configuration \u001B[95m\u001B[1mtest-neat_config.txt\u001B[0m\n",
      "species_fitness_func = max\n",
      "max_stagnation = 10\n",
      "species_elitism = 2\n",
      "Loaded configuration '\u001B[96m\u001B[1mSTAGNATION CONFIG\u001B[0m' in NEAT Configuration \u001B[95m\u001B[1mtest-neat_config.txt\u001B[0m\n",
      "elitism = 0\n",
      "survival_threshold = 0.1\n",
      "Loaded configuration '\u001B[96m\u001B[1mREPRODUCTION CONFIG\u001B[0m' in NEAT Configuration \u001B[95m\u001B[1mtest-neat_config.txt\u001B[0m\n"
     ]
    }
   ],
   "source": [
    "test_config.load()"
   ],
   "metadata": {
    "collapsed": false,
    "pycharm": {
     "name": "#%%\n"
    }
   }
  }
 ],
 "metadata": {
  "kernelspec": {
   "display_name": "Python 3",
   "language": "python",
   "name": "python3"
  },
  "language_info": {
   "codemirror_mode": {
    "name": "ipython",
    "version": 2
   },
   "file_extension": ".py",
   "mimetype": "text/x-python",
   "name": "python",
   "nbconvert_exporter": "python",
   "pygments_lexer": "ipython2",
   "version": "2.7.6"
  }
 },
 "nbformat": 4,
 "nbformat_minor": 0
}